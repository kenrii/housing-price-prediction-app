{
 "cells": [
  {
   "cell_type": "code",
   "execution_count": 1,
   "id": "685b431b",
   "metadata": {},
   "outputs": [],
   "source": [
    "import re\n",
    "import pandas as pd\n",
    "\n",
    "def to_zipcode(tuple_string):\n",
    "    return f\"{int(re.search(r'[0-9]+', tuple_string).group()):05d}\"\n"
   ]
  },
  {
   "cell_type": "code",
   "execution_count": 24,
   "id": "845f34e0",
   "metadata": {},
   "outputs": [
    {
     "name": "stdout",
     "output_type": "stream",
     "text": [
      "                pred_0           pred_1           pred_2           pred_3  \\\n",
      "670    4169.9613467287  4005.5229979167  4308.6424620168   4210.127859019   \n",
      "730    3467.8676573367  3452.2526875232  3513.7998861137  3569.5943840849   \n",
      "740    3125.5499465689  3098.6531219412  3072.2934625816  3191.9099197021   \n",
      "750    3056.7863201765  3064.0313085751   3021.075610734  3108.7449269859   \n",
      "780    3454.0746305582  3558.4246018697  3529.6768831336  3486.5857654272   \n",
      "...                ...              ...              ...              ...   \n",
      "90440    1544.64285357  1588.5224722742  1649.0222946067  1595.1433500208   \n",
      "90570  1650.2024465917   1609.656444925  1664.3213009941  1673.1064586135   \n",
      "90650  1690.5970273602  1762.3957343002  1667.8020688904  1810.4852266385   \n",
      "90940  1276.0552807222  1252.0609724389  1262.4596375127  1218.5202310575   \n",
      "93600  1334.1937787698  1300.8234464128  1190.2926998663  1241.3946264373   \n",
      "\n",
      "      longitude latitude  \n",
      "670     24.9326  60.2516  \n",
      "730     25.0206  60.2659  \n",
      "740     24.9978  60.2745  \n",
      "750     25.0317  60.2793  \n",
      "780     24.9881  60.2583  \n",
      "...         ...      ...  \n",
      "90440   25.4982  64.9132  \n",
      "90570   25.4779  65.0544  \n",
      "90650   25.5562  65.0174  \n",
      "90940   25.6887  65.0849  \n",
      "93600   29.1904  65.9727  \n",
      "\n",
      "[142 rows x 6 columns]\n"
     ]
    }
   ],
   "source": [
    "pred = pd.read_json(\"json_prediction/emsembled/terrace_house_ensemble_forecasts.json\", dtype=str)\n",
    "print(pred)\n",
    "pred = pred.rename(index=dict(zip(list(pred.index), [to_zipcode(str(s)) for s in list(pred.index)])))"
   ]
  },
  {
   "cell_type": "code",
   "execution_count": 25,
   "id": "c2add741",
   "metadata": {},
   "outputs": [],
   "source": [
    "pred.to_json(\"terrace_house_ensembled_forecast.json\")"
   ]
  },
  {
   "cell_type": "markdown",
   "id": "eceadfa1",
   "metadata": {},
   "source": [
    "## CSV"
   ]
  },
  {
   "cell_type": "code",
   "execution_count": 12,
   "id": "7e89b45f",
   "metadata": {},
   "outputs": [],
   "source": [
    "pred = pd.read_csv(\"json_prediction/cluster_labels/three-more_room_cluster_dictionary.csv\", dtype=str)\n",
    "pred[\"Postal code\"] = pred[\"Postal code\"].apply(lambda row: to_zipcode(row))\n",
    "pred.to_csv(\"json_prediction/cluster_labels/three-more_room_cluster_dictionary2.csv\", index=False)"
   ]
  },
  {
   "cell_type": "code",
   "execution_count": null,
   "id": "7e9ee509",
   "metadata": {},
   "outputs": [],
   "source": []
  }
 ],
 "metadata": {
  "kernelspec": {
   "display_name": "Python 3 (ipykernel)",
   "language": "python",
   "name": "python3"
  },
  "language_info": {
   "codemirror_mode": {
    "name": "ipython",
    "version": 3
   },
   "file_extension": ".py",
   "mimetype": "text/x-python",
   "name": "python",
   "nbconvert_exporter": "python",
   "pygments_lexer": "ipython3",
   "version": "3.8.8"
  }
 },
 "nbformat": 4,
 "nbformat_minor": 5
}
